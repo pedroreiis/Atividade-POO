{
  "nbformat": 4,
  "nbformat_minor": 0,
  "metadata": {
    "colab": {
      "provenance": [],
      "authorship_tag": "ABX9TyN+IJF+6DGbL4olgdy9T2X5",
      "include_colab_link": true
    },
    "kernelspec": {
      "name": "python3",
      "display_name": "Python 3"
    },
    "language_info": {
      "name": "python"
    }
  },
  "cells": [
    {
      "cell_type": "markdown",
      "metadata": {
        "id": "view-in-github",
        "colab_type": "text"
      },
      "source": [
        "<a href=\"https://colab.research.google.com/github/pedroreiis/Atividade-POO/blob/main/Atividade-POO.ipynb\" target=\"_parent\"><img src=\"https://colab.research.google.com/assets/colab-badge.svg\" alt=\"Open In Colab\"/></a>"
      ]
    },
    {
      "cell_type": "code",
      "execution_count": null,
      "metadata": {
        "id": "voFgTNf2F2hL"
      },
      "outputs": [],
      "source": [
        "# Questão 1: Exibir a tabuada de um número\n",
        "numero = int(input('Informe um número para ver a tabuada: '))\n",
        "for i in range(1, 11):\n",
        "    print(f'{numero} x {i} = {numero * i}')"
      ]
    },
    {
      "cell_type": "code",
      "source": [
        " # Questão 2: Contar números pares e ímpares\n",
        "pares = 0\n",
        "impares = 0\n",
        "for i in range(1, 11):\n",
        "        n = int(input(f'Digite o {i}º número: '))\n",
        "        if n % 2 == 0:\n",
        "            pares += 1\n",
        "        else:\n",
        "            impares += 1\n",
        "print(f'Total de pares: {pares}')\n",
        "print(f'Total de ímpares: {impares}')\n"
      ],
      "metadata": {
        "id": "Nkbb3pemHN68"
      },
      "execution_count": null,
      "outputs": []
    },
    {
      "cell_type": "code",
      "source": [
        " # Questão 3: Verificar se um número é primo\n",
        "def eh_primo(n):\n",
        "        if n < 2:\n",
        "            return False\n",
        "        for i in range(2, n):\n",
        "            if n % i == 0:\n",
        "                return False\n",
        "        return True\n",
        "\n",
        "num_primo = int(input('Digite um número para verificar se é primo: '))\n",
        "if eh_primo(num_primo):\n",
        "        print(f'{num_primo} é primo.')\n",
        "else:\n",
        "        print(f'{num_primo} não é primo.')\n"
      ],
      "metadata": {
        "id": "GydCmbkYHOST"
      },
      "execution_count": null,
      "outputs": []
    },
    {
      "cell_type": "code",
      "source": [
        " # Questão 4: Simulação de crescimento de duas populações\n",
        "pop_A = 80000\n",
        "pop_B = 200000\n",
        "taxa_A = 0.03\n",
        "taxa_B = 0.015\n",
        "anos = 0\n",
        "\n",
        "while pop_A < pop_B:\n",
        "        pop_A += pop_A * taxa_A\n",
        "        pop_B += pop_B * taxa_B\n",
        "        anos += 1\n",
        "\n",
        "print(f'Serão necessários {anos} anos para a população de A alcançar ou passar a de B.')\n"
      ],
      "metadata": {
        "colab": {
          "base_uri": "https://localhost:8080/"
        },
        "id": "ft2W_rCUHOjs",
        "outputId": "b9b3aaaa-d96f-433b-f104-62172477795c"
      },
      "execution_count": null,
      "outputs": [
        {
          "output_type": "stream",
          "name": "stdout",
          "text": [
            "Serão necessários 63 anos para a população de A alcançar ou passar a de B.\n"
          ]
        }
      ]
    },
    {
      "cell_type": "code",
      "source": [
        " # Questão 5: Tabela de preços\n",
        "print(\"Tabela de preços\")\n",
        "preco = 1.99\n",
        "for qtd in range(1, 51):\n",
        "        total = qtd * preco\n",
        "        print(f'{qtd} - R$ {total:.2f}')"
      ],
      "metadata": {
        "id": "URsohB-oIlzR"
      },
      "execution_count": null,
      "outputs": []
    },
    {
      "cell_type": "code",
      "source": [
        "  # Questão 6: Aumento salarial anual\n",
        "salario = 1000.0\n",
        "aumento = 1.5 / 100\n",
        "for ano in range(1996, 2026):\n",
        "        salario += salario * aumento\n",
        "        aumento *= 2\n",
        "print(f'Salário em 2025 será de R$ {salario:.2f}')\n"
      ],
      "metadata": {
        "id": "NtWuzhI2HOqc"
      },
      "execution_count": null,
      "outputs": []
    },
    {
      "cell_type": "code",
      "source": [
        "# Questão 7: Cálculo de dívidas e parcelas\n",
        "divida = 1000\n",
        "juros = [0, 0.10, 0.15, 0.20, 0.25]\n",
        "parcelas = [1, 3, 6, 9, 12]\n",
        "\n",
        "print(\"\\n| Dívida | Juros | Parcelas | Valor da Parcela |\")\n",
        "for i in range(len(parcelas)):\n",
        "    valor_juros = divida * juros[i]\n",
        "    total_divida = divida + valor_juros\n",
        "    valor_parcela = total_divida / parcelas[i]\n",
        "    print(f'| R$ {total_divida:.2f} | {juros[i] * 100}% | {parcelas[i]}x | R$ {valor_parcela:.2f} |')"
      ],
      "metadata": {
        "id": "fK8JfvB3HOxN"
      },
      "execution_count": null,
      "outputs": []
    },
    {
      "cell_type": "code",
      "source": [
        "# Questão 8: Verificar notas de alunos com base no gabarito\n",
        "gabarito = ['A', 'B', 'C', 'D', 'E', 'E', 'D', 'C', 'B', 'A']\n",
        "continuar = 's'\n",
        "total_alunos = 0\n",
        "notas = []\n",
        "\n",
        "while continuar == 's':\n",
        "    acertos = 0\n",
        "    print(\"\\nResponda as questões da prova (A, B, C, D, E):\")\n",
        "    for i in range(10):\n",
        "        resposta = input(f'Questão {i + 1}: ').upper()\n",
        "        if resposta == gabarito[i]:\n",
        "            acertos += 1\n",
        "    notas.append(acertos)\n",
        "    total_alunos += 1\n",
        "    continuar = input('Outro aluno vai responder? (s/n): ').lower()\n",
        "\n",
        "print(f'\\nNúmero total de alunos: {total_alunos}')\n",
        "print(f'Maior nota: {max(notas)}')\n",
        "print(f'Menor nota: {min(notas)}')\n",
        "print(f'Média de acertos: {sum(notas) / total_alunos:.2f}')"
      ],
      "metadata": {
        "id": "gMRJ_7GAHO5M"
      },
      "execution_count": null,
      "outputs": []
    }
  ]
}